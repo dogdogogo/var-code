{
 "cells": [
  {
   "cell_type": "code",
   "execution_count": null,
   "id": "5c63cf98",
   "metadata": {},
   "outputs": [],
   "source": [
    "import random as rd\n",
    "\n",
    "print(\"=== START ===\")\n",
    "a, b = rd.randint(1, 101), rd.randint(1, 101)"
   ]
  },
  {
   "cell_type": "code",
   "execution_count": null,
   "id": "cadff666",
   "metadata": {},
   "outputs": [],
   "source": [
    "print(f\"a = {a}, b = {b}\")\n",
    "\n",
    "if a >= b:\n",
    "  print(\"a if bigger.\")\n",
    "else:\n",
    "  print(\"b if bigger.\")"
   ]
  },
  {
   "cell_type": "code",
   "execution_count": null,
   "id": "c01b2f16",
   "metadata": {},
   "outputs": [],
   "source": [
    "import pygame\n",
    "pygame.init()"
   ]
  }
 ],
 "metadata": {
  "interpreter": {
   "hash": "aee8b7b246df8f9039afb4144a1f6fd8d2ca17a180786b69acc140d282b71a49"
  },
  "kernelspec": {
   "display_name": "Python 3.9.13 64-bit",
   "language": "python",
   "name": "python3"
  },
  "language_info": {
   "codemirror_mode": {
    "name": "ipython",
    "version": 3
   },
   "file_extension": ".py",
   "mimetype": "text/x-python",
   "name": "python",
   "nbconvert_exporter": "python",
   "pygments_lexer": "ipython3",
   "version": "3.9.13"
  }
 },
 "nbformat": 4,
 "nbformat_minor": 5
}
